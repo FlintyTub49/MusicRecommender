{
  "cells": [
    {
      "cell_type": "markdown",
      "metadata": {
        "id": "0wNKxrB-AlcV"
      },
      "source": [
        "## Importing Libraries"
      ]
    },
    {
      "cell_type": "code",
      "execution_count": null,
      "metadata": {
        "id": "KZMBL5JiAZhd"
      },
      "outputs": [],
      "source": [
        "import numpy as np\n",
        "import pandas as pd\n",
        "import librosa\n",
        "import librosa.display\n",
        "import matplotlib.pyplot as plt\n",
        "import plotly.express as px\n",
        "\n",
        "import json\n",
        "import os\n",
        "import math\n",
        "from statistics import mode\n",
        "\n",
        "from sklearn.model_selection import train_test_split\n",
        "from sklearn.preprocessing import StandardScaler, LabelEncoder\n",
        "from sklearn.metrics import accuracy_score, r2_score\n",
        "import tensorflow.keras as keras\n",
        "import keras\n",
        "from keras.models import load_model\n",
        "import pickle as pk"
      ]
    },
    {
      "cell_type": "markdown",
      "metadata": {
        "id": "ME7_x7w5A2H2"
      },
      "source": [
        "## Getting The Data"
      ]
    },
    {
      "cell_type": "code",
      "execution_count": null,
      "metadata": {
        "colab": {
          "base_uri": "https://localhost:8080/",
          "height": 73,
          "resources": {
            "http://localhost:8080/nbextensions/google.colab/files.js": {
              "data": "Ly8gQ29weXJpZ2h0IDIwMTcgR29vZ2xlIExMQwovLwovLyBMaWNlbnNlZCB1bmRlciB0aGUgQXBhY2hlIExpY2Vuc2UsIFZlcnNpb24gMi4wICh0aGUgIkxpY2Vuc2UiKTsKLy8geW91IG1heSBub3QgdXNlIHRoaXMgZmlsZSBleGNlcHQgaW4gY29tcGxpYW5jZSB3aXRoIHRoZSBMaWNlbnNlLgovLyBZb3UgbWF5IG9idGFpbiBhIGNvcHkgb2YgdGhlIExpY2Vuc2UgYXQKLy8KLy8gICAgICBodHRwOi8vd3d3LmFwYWNoZS5vcmcvbGljZW5zZXMvTElDRU5TRS0yLjAKLy8KLy8gVW5sZXNzIHJlcXVpcmVkIGJ5IGFwcGxpY2FibGUgbGF3IG9yIGFncmVlZCB0byBpbiB3cml0aW5nLCBzb2Z0d2FyZQovLyBkaXN0cmlidXRlZCB1bmRlciB0aGUgTGljZW5zZSBpcyBkaXN0cmlidXRlZCBvbiBhbiAiQVMgSVMiIEJBU0lTLAovLyBXSVRIT1VUIFdBUlJBTlRJRVMgT1IgQ09ORElUSU9OUyBPRiBBTlkgS0lORCwgZWl0aGVyIGV4cHJlc3Mgb3IgaW1wbGllZC4KLy8gU2VlIHRoZSBMaWNlbnNlIGZvciB0aGUgc3BlY2lmaWMgbGFuZ3VhZ2UgZ292ZXJuaW5nIHBlcm1pc3Npb25zIGFuZAovLyBsaW1pdGF0aW9ucyB1bmRlciB0aGUgTGljZW5zZS4KCi8qKgogKiBAZmlsZW92ZXJ2aWV3IEhlbHBlcnMgZm9yIGdvb2dsZS5jb2xhYiBQeXRob24gbW9kdWxlLgogKi8KKGZ1bmN0aW9uKHNjb3BlKSB7CmZ1bmN0aW9uIHNwYW4odGV4dCwgc3R5bGVBdHRyaWJ1dGVzID0ge30pIHsKICBjb25zdCBlbGVtZW50ID0gZG9jdW1lbnQuY3JlYXRlRWxlbWVudCgnc3BhbicpOwogIGVsZW1lbnQudGV4dENvbnRlbnQgPSB0ZXh0OwogIGZvciAoY29uc3Qga2V5IG9mIE9iamVjdC5rZXlzKHN0eWxlQXR0cmlidXRlcykpIHsKICAgIGVsZW1lbnQuc3R5bGVba2V5XSA9IHN0eWxlQXR0cmlidXRlc1trZXldOwogIH0KICByZXR1cm4gZWxlbWVudDsKfQoKLy8gTWF4IG51bWJlciBvZiBieXRlcyB3aGljaCB3aWxsIGJlIHVwbG9hZGVkIGF0IGEgdGltZS4KY29uc3QgTUFYX1BBWUxPQURfU0laRSA9IDEwMCAqIDEwMjQ7CgpmdW5jdGlvbiBfdXBsb2FkRmlsZXMoaW5wdXRJZCwgb3V0cHV0SWQpIHsKICBjb25zdCBzdGVwcyA9IHVwbG9hZEZpbGVzU3RlcChpbnB1dElkLCBvdXRwdXRJZCk7CiAgY29uc3Qgb3V0cHV0RWxlbWVudCA9IGRvY3VtZW50LmdldEVsZW1lbnRCeUlkKG91dHB1dElkKTsKICAvLyBDYWNoZSBzdGVwcyBvbiB0aGUgb3V0cHV0RWxlbWVudCB0byBtYWtlIGl0IGF2YWlsYWJsZSBmb3IgdGhlIG5leHQgY2FsbAogIC8vIHRvIHVwbG9hZEZpbGVzQ29udGludWUgZnJvbSBQeXRob24uCiAgb3V0cHV0RWxlbWVudC5zdGVwcyA9IHN0ZXBzOwoKICByZXR1cm4gX3VwbG9hZEZpbGVzQ29udGludWUob3V0cHV0SWQpOwp9CgovLyBUaGlzIGlzIHJvdWdobHkgYW4gYXN5bmMgZ2VuZXJhdG9yIChub3Qgc3VwcG9ydGVkIGluIHRoZSBicm93c2VyIHlldCksCi8vIHdoZXJlIHRoZXJlIGFyZSBtdWx0aXBsZSBhc3luY2hyb25vdXMgc3RlcHMgYW5kIHRoZSBQeXRob24gc2lkZSBpcyBnb2luZwovLyB0byBwb2xsIGZvciBjb21wbGV0aW9uIG9mIGVhY2ggc3RlcC4KLy8gVGhpcyB1c2VzIGEgUHJvbWlzZSB0byBibG9jayB0aGUgcHl0aG9uIHNpZGUgb24gY29tcGxldGlvbiBvZiBlYWNoIHN0ZXAsCi8vIHRoZW4gcGFzc2VzIHRoZSByZXN1bHQgb2YgdGhlIHByZXZpb3VzIHN0ZXAgYXMgdGhlIGlucHV0IHRvIHRoZSBuZXh0IHN0ZXAuCmZ1bmN0aW9uIF91cGxvYWRGaWxlc0NvbnRpbnVlKG91dHB1dElkKSB7CiAgY29uc3Qgb3V0cHV0RWxlbWVudCA9IGRvY3VtZW50LmdldEVsZW1lbnRCeUlkKG91dHB1dElkKTsKICBjb25zdCBzdGVwcyA9IG91dHB1dEVsZW1lbnQuc3RlcHM7CgogIGNvbnN0IG5leHQgPSBzdGVwcy5uZXh0KG91dHB1dEVsZW1lbnQubGFzdFByb21pc2VWYWx1ZSk7CiAgcmV0dXJuIFByb21pc2UucmVzb2x2ZShuZXh0LnZhbHVlLnByb21pc2UpLnRoZW4oKHZhbHVlKSA9PiB7CiAgICAvLyBDYWNoZSB0aGUgbGFzdCBwcm9taXNlIHZhbHVlIHRvIG1ha2UgaXQgYXZhaWxhYmxlIHRvIHRoZSBuZXh0CiAgICAvLyBzdGVwIG9mIHRoZSBnZW5lcmF0b3IuCiAgICBvdXRwdXRFbGVtZW50Lmxhc3RQcm9taXNlVmFsdWUgPSB2YWx1ZTsKICAgIHJldHVybiBuZXh0LnZhbHVlLnJlc3BvbnNlOwogIH0pOwp9CgovKioKICogR2VuZXJhdG9yIGZ1bmN0aW9uIHdoaWNoIGlzIGNhbGxlZCBiZXR3ZWVuIGVhY2ggYXN5bmMgc3RlcCBvZiB0aGUgdXBsb2FkCiAqIHByb2Nlc3MuCiAqIEBwYXJhbSB7c3RyaW5nfSBpbnB1dElkIEVsZW1lbnQgSUQgb2YgdGhlIGlucHV0IGZpbGUgcGlja2VyIGVsZW1lbnQuCiAqIEBwYXJhbSB7c3RyaW5nfSBvdXRwdXRJZCBFbGVtZW50IElEIG9mIHRoZSBvdXRwdXQgZGlzcGxheS4KICogQHJldHVybiB7IUl0ZXJhYmxlPCFPYmplY3Q+fSBJdGVyYWJsZSBvZiBuZXh0IHN0ZXBzLgogKi8KZnVuY3Rpb24qIHVwbG9hZEZpbGVzU3RlcChpbnB1dElkLCBvdXRwdXRJZCkgewogIGNvbnN0IGlucHV0RWxlbWVudCA9IGRvY3VtZW50LmdldEVsZW1lbnRCeUlkKGlucHV0SWQpOwogIGlucHV0RWxlbWVudC5kaXNhYmxlZCA9IGZhbHNlOwoKICBjb25zdCBvdXRwdXRFbGVtZW50ID0gZG9jdW1lbnQuZ2V0RWxlbWVudEJ5SWQob3V0cHV0SWQpOwogIG91dHB1dEVsZW1lbnQuaW5uZXJIVE1MID0gJyc7CgogIGNvbnN0IHBpY2tlZFByb21pc2UgPSBuZXcgUHJvbWlzZSgocmVzb2x2ZSkgPT4gewogICAgaW5wdXRFbGVtZW50LmFkZEV2ZW50TGlzdGVuZXIoJ2NoYW5nZScsIChlKSA9PiB7CiAgICAgIHJlc29sdmUoZS50YXJnZXQuZmlsZXMpOwogICAgfSk7CiAgfSk7CgogIGNvbnN0IGNhbmNlbCA9IGRvY3VtZW50LmNyZWF0ZUVsZW1lbnQoJ2J1dHRvbicpOwogIGlucHV0RWxlbWVudC5wYXJlbnRFbGVtZW50LmFwcGVuZENoaWxkKGNhbmNlbCk7CiAgY2FuY2VsLnRleHRDb250ZW50ID0gJ0NhbmNlbCB1cGxvYWQnOwogIGNvbnN0IGNhbmNlbFByb21pc2UgPSBuZXcgUHJvbWlzZSgocmVzb2x2ZSkgPT4gewogICAgY2FuY2VsLm9uY2xpY2sgPSAoKSA9PiB7CiAgICAgIHJlc29sdmUobnVsbCk7CiAgICB9OwogIH0pOwoKICAvLyBXYWl0IGZvciB0aGUgdXNlciB0byBwaWNrIHRoZSBmaWxlcy4KICBjb25zdCBmaWxlcyA9IHlpZWxkIHsKICAgIHByb21pc2U6IFByb21pc2UucmFjZShbcGlja2VkUHJvbWlzZSwgY2FuY2VsUHJvbWlzZV0pLAogICAgcmVzcG9uc2U6IHsKICAgICAgYWN0aW9uOiAnc3RhcnRpbmcnLAogICAgfQogIH07CgogIGNhbmNlbC5yZW1vdmUoKTsKCiAgLy8gRGlzYWJsZSB0aGUgaW5wdXQgZWxlbWVudCBzaW5jZSBmdXJ0aGVyIHBpY2tzIGFyZSBub3QgYWxsb3dlZC4KICBpbnB1dEVsZW1lbnQuZGlzYWJsZWQgPSB0cnVlOwoKICBpZiAoIWZpbGVzKSB7CiAgICByZXR1cm4gewogICAgICByZXNwb25zZTogewogICAgICAgIGFjdGlvbjogJ2NvbXBsZXRlJywKICAgICAgfQogICAgfTsKICB9CgogIGZvciAoY29uc3QgZmlsZSBvZiBmaWxlcykgewogICAgY29uc3QgbGkgPSBkb2N1bWVudC5jcmVhdGVFbGVtZW50KCdsaScpOwogICAgbGkuYXBwZW5kKHNwYW4oZmlsZS5uYW1lLCB7Zm9udFdlaWdodDogJ2JvbGQnfSkpOwogICAgbGkuYXBwZW5kKHNwYW4oCiAgICAgICAgYCgke2ZpbGUudHlwZSB8fCAnbi9hJ30pIC0gJHtmaWxlLnNpemV9IGJ5dGVzLCBgICsKICAgICAgICBgbGFzdCBtb2RpZmllZDogJHsKICAgICAgICAgICAgZmlsZS5sYXN0TW9kaWZpZWREYXRlID8gZmlsZS5sYXN0TW9kaWZpZWREYXRlLnRvTG9jYWxlRGF0ZVN0cmluZygpIDoKICAgICAgICAgICAgICAgICAgICAgICAgICAgICAgICAgICAgJ24vYSd9IC0gYCkpOwogICAgY29uc3QgcGVyY2VudCA9IHNwYW4oJzAlIGRvbmUnKTsKICAgIGxpLmFwcGVuZENoaWxkKHBlcmNlbnQpOwoKICAgIG91dHB1dEVsZW1lbnQuYXBwZW5kQ2hpbGQobGkpOwoKICAgIGNvbnN0IGZpbGVEYXRhUHJvbWlzZSA9IG5ldyBQcm9taXNlKChyZXNvbHZlKSA9PiB7CiAgICAgIGNvbnN0IHJlYWRlciA9IG5ldyBGaWxlUmVhZGVyKCk7CiAgICAgIHJlYWRlci5vbmxvYWQgPSAoZSkgPT4gewogICAgICAgIHJlc29sdmUoZS50YXJnZXQucmVzdWx0KTsKICAgICAgfTsKICAgICAgcmVhZGVyLnJlYWRBc0FycmF5QnVmZmVyKGZpbGUpOwogICAgfSk7CiAgICAvLyBXYWl0IGZvciB0aGUgZGF0YSB0byBiZSByZWFkeS4KICAgIGxldCBmaWxlRGF0YSA9IHlpZWxkIHsKICAgICAgcHJvbWlzZTogZmlsZURhdGFQcm9taXNlLAogICAgICByZXNwb25zZTogewogICAgICAgIGFjdGlvbjogJ2NvbnRpbnVlJywKICAgICAgfQogICAgfTsKCiAgICAvLyBVc2UgYSBjaHVua2VkIHNlbmRpbmcgdG8gYXZvaWQgbWVzc2FnZSBzaXplIGxpbWl0cy4gU2VlIGIvNjIxMTU2NjAuCiAgICBsZXQgcG9zaXRpb24gPSAwOwogICAgd2hpbGUgKHBvc2l0aW9uIDwgZmlsZURhdGEuYnl0ZUxlbmd0aCkgewogICAgICBjb25zdCBsZW5ndGggPSBNYXRoLm1pbihmaWxlRGF0YS5ieXRlTGVuZ3RoIC0gcG9zaXRpb24sIE1BWF9QQVlMT0FEX1NJWkUpOwogICAgICBjb25zdCBjaHVuayA9IG5ldyBVaW50OEFycmF5KGZpbGVEYXRhLCBwb3NpdGlvbiwgbGVuZ3RoKTsKICAgICAgcG9zaXRpb24gKz0gbGVuZ3RoOwoKICAgICAgY29uc3QgYmFzZTY0ID0gYnRvYShTdHJpbmcuZnJvbUNoYXJDb2RlLmFwcGx5KG51bGwsIGNodW5rKSk7CiAgICAgIHlpZWxkIHsKICAgICAgICByZXNwb25zZTogewogICAgICAgICAgYWN0aW9uOiAnYXBwZW5kJywKICAgICAgICAgIGZpbGU6IGZpbGUubmFtZSwKICAgICAgICAgIGRhdGE6IGJhc2U2NCwKICAgICAgICB9LAogICAgICB9OwogICAgICBwZXJjZW50LnRleHRDb250ZW50ID0KICAgICAgICAgIGAke01hdGgucm91bmQoKHBvc2l0aW9uIC8gZmlsZURhdGEuYnl0ZUxlbmd0aCkgKiAxMDApfSUgZG9uZWA7CiAgICB9CiAgfQoKICAvLyBBbGwgZG9uZS4KICB5aWVsZCB7CiAgICByZXNwb25zZTogewogICAgICBhY3Rpb246ICdjb21wbGV0ZScsCiAgICB9CiAgfTsKfQoKc2NvcGUuZ29vZ2xlID0gc2NvcGUuZ29vZ2xlIHx8IHt9OwpzY29wZS5nb29nbGUuY29sYWIgPSBzY29wZS5nb29nbGUuY29sYWIgfHwge307CnNjb3BlLmdvb2dsZS5jb2xhYi5fZmlsZXMgPSB7CiAgX3VwbG9hZEZpbGVzLAogIF91cGxvYWRGaWxlc0NvbnRpbnVlLAp9Owp9KShzZWxmKTsK",
              "headers": [
                [
                  "content-type",
                  "application/javascript"
                ]
              ],
              "ok": true,
              "status": 200,
              "status_text": ""
            }
          }
        },
        "id": "ydbc9Wi9Aw9s",
        "outputId": "437bafc0-8b99-45c5-f2ab-8d704fc3ec4f"
      },
      "outputs": [
        {
          "data": {
            "text/html": [
              "\n",
              "     <input type=\"file\" id=\"files-5bd8e52c-b26e-44c3-ba83-809ba95d35ab\" name=\"files[]\" multiple disabled\n",
              "        style=\"border:none\" />\n",
              "     <output id=\"result-5bd8e52c-b26e-44c3-ba83-809ba95d35ab\">\n",
              "      Upload widget is only available when the cell has been executed in the\n",
              "      current browser session. Please rerun this cell to enable.\n",
              "      </output>\n",
              "      <script src=\"/nbextensions/google.colab/files.js\"></script> "
            ],
            "text/plain": [
              "<IPython.core.display.HTML object>"
            ]
          },
          "metadata": {
            "tags": []
          },
          "output_type": "display_data"
        },
        {
          "name": "stdout",
          "output_type": "stream",
          "text": [
            "Saving kaggle.json to kaggle.json\n"
          ]
        }
      ],
      "source": [
        "!pip install -q kaggle\n",
        "from google.colab import files\n",
        "files.upload()\n",
        "\n",
        "! mkdir ~/.kaggle\n",
        "! cp kaggle.json ~/.kaggle/\n",
        "! chmod 600 ~/.kaggle/kaggle.json"
      ]
    },
    {
      "cell_type": "code",
      "execution_count": null,
      "metadata": {
        "id": "GXnxJnDQBgXG"
      },
      "outputs": [],
      "source": [
        "!kaggle datasets list -s gtzan\n",
        "!kaggle datasets download -d andradaolteanu/gtzan-dataset-music-genre-classification\n",
        "!unzip /content/gtzan-dataset-music-genre-classification.zip\n",
        "\n",
        "'''Librosa Not able to Load, hence delete :-\n",
        "- Delete Jazz 54\n",
        "- \n",
        "'''"
      ]
    },
    {
      "cell_type": "markdown",
      "metadata": {
        "id": "zIqVADstDRMV"
      },
      "source": [
        "## Plotting The Data"
      ]
    },
    {
      "cell_type": "code",
      "execution_count": null,
      "metadata": {
        "id": "g4mdZAltCeUZ"
      },
      "outputs": [],
      "source": [
        "data , sr = librosa.load('/content/Data/genres_original/blues/blues.00000.wav', sr = 45600)\n",
        "data.shape"
      ]
    },
    {
      "cell_type": "code",
      "execution_count": null,
      "metadata": {
        "id": "GhXLXX_1Dg6c"
      },
      "outputs": [],
      "source": [
        "plt.figure(figsize = (12, 4))\n",
        "librosa.display.waveplot(data, color = \"#502A75\")\n",
        "plt.show()"
      ]
    },
    {
      "cell_type": "code",
      "execution_count": null,
      "metadata": {
        "id": "NBP4LL86DkGf"
      },
      "outputs": [],
      "source": [
        "X = librosa.stft(data)\n",
        "Xdb = librosa.amplitude_to_db(abs(X))\n",
        "plt.figure(figsize=(14, 6))\n",
        "librosa.display.specshow(Xdb, sr=sr, x_axis='time', y_axis='hz')\n",
        "plt.colorbar()"
      ]
    },
    {
      "cell_type": "code",
      "execution_count": null,
      "metadata": {
        "id": "EEFtg3NeFVlG"
      },
      "outputs": [],
      "source": [
        "plt.figure(figsize = (14, 6))\n",
        "librosa.display.specshow(Xdb, sr=sr, x_axis = 'time', y_axis = 'log')\n",
        "plt.colorbar()"
      ]
    },
    {
      "cell_type": "code",
      "execution_count": null,
      "metadata": {
        "id": "HZldigQAFXT2"
      },
      "outputs": [],
      "source": [
        "from sklearn.preprocessing import normalize\n",
        "spectral_rolloff = librosa.feature.spectral_rolloff(data + 0.01, sr = sr)[0]\n",
        "plt.figure(figsize = (12, 4))\n",
        "librosa.display.waveplot(data, sr = sr, alpha = 0.4, color = \"#2B4F72\")"
      ]
    },
    {
      "cell_type": "code",
      "execution_count": null,
      "metadata": {
        "id": "Z7mAy-ieFwYc"
      },
      "outputs": [],
      "source": [
        "plt.figure(figsize = (12, 4))\n",
        "librosa.display.waveplot(data, sr = sr, color = \"#2B4F72\")"
      ]
    },
    {
      "cell_type": "code",
      "execution_count": null,
      "metadata": {
        "id": "Dq4IZFjKF7qk"
      },
      "outputs": [],
      "source": [
        "n0 = 9000\n",
        "n1 = 9100\n",
        "plt.figure(figsize = (14, 5))\n",
        "plt.plot(data[n0 : n1], color = \"#2B4F72\")\n",
        "plt.grid()"
      ]
    },
    {
      "cell_type": "markdown",
      "metadata": {
        "id": "ysf1SkuW0wvB"
      },
      "source": [
        "## Reading The Data"
      ]
    },
    {
      "cell_type": "code",
      "execution_count": null,
      "metadata": {
        "id": "jAn905orGMDM"
      },
      "outputs": [],
      "source": [
        "DATASET_PATH = \"/content/genres_original\"\n",
        "JSON_PATH = \"data_10.json\"\n",
        "SAMPLE_RATE = 22050\n",
        "TRACK_DURATION = 30 # measured in seconds\n",
        "SAMPLES_PER_TRACK = SAMPLE_RATE * TRACK_DURATION\n",
        "\n",
        "\n",
        "def save_mfcc(dataset_path, json_path, num_mfcc=13, n_fft = 2048, hop_length = 512, num_segments = 5):\n",
        "    \"\"\"Extracts MFCCs from music dataset and saves them into a json file along witgh genre labels.\n",
        "        :param dataset_path (str): Path to dataset\n",
        "        :param json_path (str): Path to json file used to save MFCCs\n",
        "        :param num_mfcc (int): Number of coefficients to extract\n",
        "        :param n_fft (int): Interval we consider to apply FFT. Measured in # of samples\n",
        "        :param hop_length (int): Sliding window for FFT. Measured in # of samples\n",
        "        :param: num_segments (int): Number of segments we want to divide sample tracks into\n",
        "        :return:\n",
        "        \"\"\"\n",
        "\n",
        "    # dictionary to store mapping, labels, and MFCCs\n",
        "    data = {\n",
        "        \"mapping\": [],\n",
        "        \"labels\": [],\n",
        "        \"mfcc\": []\n",
        "    }\n",
        "\n",
        "    samples_per_segment = int(SAMPLES_PER_TRACK / num_segments)\n",
        "    num_mfcc_vectors_per_segment = math.ceil(samples_per_segment / hop_length)\n",
        "\n",
        "    # loop through all genre sub-folder\n",
        "    for i, (dirpath, dirnames, filenames) in enumerate(os.walk(dataset_path)):\n",
        "\n",
        "        # ensure we're processing a genre sub-folder level\n",
        "        if dirpath is not dataset_path:\n",
        "\n",
        "            # save genre label (i.e., sub-folder name) in the mapping\n",
        "            semantic_label = dirpath.split(\"/\")[-1]\n",
        "            data[\"mapping\"].append(semantic_label)\n",
        "            print(\"\\nProcessing: {}\".format(semantic_label))\n",
        "\n",
        "            # process all audio files in genre sub-dir\n",
        "            for f in filenames:\n",
        "\n",
        "\t\t            # load audio file\n",
        "                file_path = os.path.join(dirpath, f)\n",
        "\n",
        "                # try:\n",
        "                # print('Dir Path', dirpath)\n",
        "                # print('Dir Names', dirnames)\n",
        "                print('Running:', file_path, 'Now')\n",
        "                signal, sample_rate = librosa.load(file_path, sr=SAMPLE_RATE)\n",
        "\n",
        "                # process all segments of audio file\n",
        "                for d in range(num_segments):\n",
        "\n",
        "                    # calculate start and finish sample for current segment\n",
        "                    start = samples_per_segment * d\n",
        "                    finish = start + samples_per_segment\n",
        "\n",
        "                    # extract mfcc\n",
        "                    mfcc = librosa.feature.mfcc(signal[start:finish], sample_rate, n_mfcc=num_mfcc, n_fft=n_fft, hop_length=hop_length)\n",
        "                    mfcc = mfcc.T\n",
        "\n",
        "                    # store only mfcc feature with expected number of vectors\n",
        "                    if len(mfcc) == num_mfcc_vectors_per_segment:\n",
        "                        data[\"mfcc\"].append(mfcc.tolist())\n",
        "                        data[\"labels\"].append(semantic_label)\n",
        "                        # print(\"{}, segment:{}\".format(file_path, d+1))\n",
        "                # except:\n",
        "                #   pass\n",
        "\n",
        "    # save MFCCs to json file\n",
        "    with open(json_path, \"w\") as fp:\n",
        "        json.dump(data, fp, indent=4)\n",
        "        \n",
        "        \n",
        "if __name__ == \"__main__\":\n",
        "    save_mfcc(DATASET_PATH, JSON_PATH, num_segments=10)"
      ]
    },
    {
      "cell_type": "code",
      "execution_count": null,
      "metadata": {
        "id": "cfERjMac28Pw"
      },
      "outputs": [],
      "source": [
        "# path to json file that stores MFCCs and genre labels for each processed segment\n",
        "DATA_PATH = \"/content/data_10.json\"\n",
        "\n",
        "def load_data(data_path):\n",
        "    \"\"\"Loads training dataset from json file.\n",
        "        :param data_path (str): Path to json file containing data\n",
        "        :return X (ndarray): Inputs\n",
        "        :return y (ndarray): Targets\n",
        "    \"\"\"\n",
        "\n",
        "    with open(data_path, \"r\") as fp:\n",
        "        data = json.load(fp)\n",
        "\n",
        "    # convert lists to numpy arrays\n",
        "    X = np.array(data[\"mfcc\"])\n",
        "    y = np.array(data[\"labels\"])\n",
        "\n",
        "    print(\"Data succesfully loaded!\")\n",
        "\n",
        "    return  X, y"
      ]
    },
    {
      "cell_type": "markdown",
      "metadata": {
        "id": "L0G2lcYQcl9i"
      },
      "source": [
        "### Labelling The Data"
      ]
    },
    {
      "cell_type": "code",
      "execution_count": null,
      "metadata": {
        "colab": {
          "base_uri": "https://localhost:8080/"
        },
        "id": "-nnOGuxo7CJT",
        "outputId": "bd3358a1-f21f-4c5b-cd96-211359d00dba"
      },
      "outputs": [
        {
          "name": "stdout",
          "output_type": "stream",
          "text": [
            "Data succesfully loaded!\n"
          ]
        }
      ],
      "source": [
        "X, y = load_data(DATA_PATH)"
      ]
    },
    {
      "cell_type": "code",
      "execution_count": null,
      "metadata": {
        "id": "JARJw1qQPkql"
      },
      "outputs": [],
      "source": [
        "label = LabelEncoder()\n",
        "y = label.fit_transform(y)"
      ]
    },
    {
      "cell_type": "markdown",
      "metadata": {
        "id": "u6a7igXPccN1"
      },
      "source": [
        "## Modelling"
      ]
    },
    {
      "cell_type": "code",
      "execution_count": null,
      "metadata": {
        "id": "PElpRxnhdeUs"
      },
      "outputs": [],
      "source": [
        "def plot_history(history):\n",
        "    \"\"\"Plots accuracy/loss for training/validation set as a function of the epochs\n",
        "        :param history: Training history of model\n",
        "        :return:\n",
        "    \"\"\"\n",
        "\n",
        "    fig, axs = plt.subplots(2)\n",
        "\n",
        "    # create accuracy sublpot\n",
        "    axs[0].plot(history.history[\"accuracy\"], label = \"train accuracy\")\n",
        "    axs[0].plot(history.history[\"val_accuracy\"], label = \"test accuracy\")\n",
        "    axs[0].set_ylabel(\"Accuracy\")\n",
        "    axs[0].legend(loc=\"lower right\")\n",
        "    axs[0].set_title(\"Accuracy eval\")\n",
        "\n",
        "    # create error sublpot\n",
        "    axs[1].plot(history.history[\"loss\"], label=\"train error\")\n",
        "    axs[1].plot(history.history[\"val_loss\"], label=\"test error\")\n",
        "    axs[1].set_ylabel(\"Error\")\n",
        "    axs[1].set_xlabel(\"Epoch\")\n",
        "    axs[1].legend(loc=\"upper right\")\n",
        "    axs[1].set_title(\"Error eval\")\n",
        "\n",
        "    plt.show()"
      ]
    },
    {
      "cell_type": "markdown",
      "metadata": {
        "id": "1iEuhkg6dER4"
      },
      "source": [
        "### Neural Network"
      ]
    },
    {
      "cell_type": "code",
      "execution_count": null,
      "metadata": {
        "id": "8DRQJD5Z3DDr"
      },
      "outputs": [],
      "source": [
        "# # load data\n",
        "# X, y = load_data(DATA_PATH)\n",
        "\n",
        "# create train/test split\n",
        "X_train, X_test, y_train, y_test = train_test_split(X, y, test_size = 0.3)\n",
        "\n",
        "# build network topology\n",
        "model = keras.Sequential([\n",
        "    # input layer\n",
        "    keras.layers.Flatten(input_shape = (X.shape[1], X.shape[2])),\n",
        "\n",
        "    # 1st dense layer\n",
        "    keras.layers.Dense(512, activation = 'relu'),\n",
        "\n",
        "    # 2nd dense layer\n",
        "    keras.layers.Dense(256, activation = 'relu'),\n",
        "\n",
        "    # 3rd dense layer\n",
        "    keras.layers.Dense(64, activation = 'relu'),\n",
        "\n",
        "    # output layer\n",
        "    keras.layers.Dense(10, activation = 'softmax')\n",
        "])\n",
        "\n",
        "# compile model\n",
        "optimiser = keras.optimizers.Adam(learning_rate = 0.0001)\n",
        "model.compile(optimizer = optimiser, loss = 'sparse_categorical_crossentropy', metrics = ['accuracy'])\n",
        "\n",
        "# model.summary()\n",
        "\n",
        "# train model\n",
        "history = model.fit(X_train, y_train, validation_data = (X_test, y_test), epochs = 100)\n",
        "plot_history(history)"
      ]
    },
    {
      "cell_type": "markdown",
      "metadata": {
        "id": "X925uMyclsUt"
      },
      "source": [
        "#### Avoiding Overfitting"
      ]
    },
    {
      "cell_type": "code",
      "execution_count": null,
      "metadata": {
        "id": "yPTahVdskyAc"
      },
      "outputs": [],
      "source": [
        "# create train/test split\n",
        "X_train, X_test, y_train, y_test = train_test_split(X, y, test_size=0.3)\n",
        "\n",
        "# build network topology\n",
        "model = keras.Sequential([\n",
        "  # input layer\n",
        "  keras.layers.Flatten(input_shape = (X.shape[1], X.shape[2])),\n",
        "\n",
        "  # 1st dense layer\n",
        "  keras.layers.Dense(512, activation='relu', kernel_regularizer=keras.regularizers.l2(0.001)),\n",
        "  keras.layers.Dropout(0.3),\n",
        "\n",
        "  # 2nd dense layer\n",
        "  keras.layers.Dense(256, activation='relu', kernel_regularizer=keras.regularizers.l2(0.001)),\n",
        "  keras.layers.Dropout(0.3),\n",
        "\n",
        "  # 3rd dense layer\n",
        "  keras.layers.Dense(64, activation='relu', kernel_regularizer=keras.regularizers.l2(0.001)),\n",
        "  keras.layers.Dropout(0.3),\n",
        "\n",
        "  # output layer\n",
        "  keras.layers.Dense(10, activation='softmax')\n",
        "])\n",
        "\n",
        "# compile model\n",
        "optimiser = keras.optimizers.Adam(learning_rate = 0.0001)\n",
        "model.compile(optimizer=optimiser, loss = 'sparse_categorical_crossentropy', metrics = ['accuracy'])\n",
        "\n",
        "# model.summary()\n",
        "\n",
        "# train model\n",
        "history = model.fit(X_train, y_train, validation_data=(X_test, y_test), batch_size=32, epochs=100)\n",
        "\n",
        "# plot accuracy and error as a function of the epochs\n",
        "plot_history(history)"
      ]
    },
    {
      "cell_type": "markdown",
      "metadata": {
        "id": "xhX9FPY7uPsT"
      },
      "source": [
        "### Convolution Networks"
      ]
    },
    {
      "cell_type": "code",
      "execution_count": null,
      "metadata": {
        "id": "M0OfiG0nuVyg"
      },
      "outputs": [],
      "source": [
        "def prepare_datasets(test_size, validation_size):\n",
        "    \"\"\"Loads data and splits it into train, validation and test sets.\n",
        "    :param test_size (float): Value in [0, 1] indicating percentage of data set to allocate to test split\n",
        "    :param validation_size (float): Value in [0, 1] indicating percentage of train set to allocate to validation split\n",
        "    :return X_train (ndarray): Input training set\n",
        "    :return X_validation (ndarray): Input validation set\n",
        "    :return X_test (ndarray): Input test set\n",
        "    :return y_train (ndarray): Target training set\n",
        "    :return y_validation (ndarray): Target validation set\n",
        "    :return y_test (ndarray): Target test set\n",
        "    \"\"\"\n",
        "\n",
        "    # load data\n",
        "    # X, y = load_data(DATA_PATH)\n",
        "\n",
        "    # create train, validation and test split\n",
        "    X_train, X_test, y_train, y_test = train_test_split(X, y, test_size=test_size)\n",
        "    X_train, X_validation, y_train, y_validation = train_test_split(X_train, y_train, test_size=validation_size)\n",
        "\n",
        "    # add an axis to input sets\n",
        "    X_train = X_train[..., np.newaxis]\n",
        "    X_validation = X_validation[..., np.newaxis]\n",
        "    X_test = X_test[..., np.newaxis]\n",
        "\n",
        "    return X_train, X_validation, X_test, y_train, y_validation, y_test\n",
        "\n",
        "\n",
        "def build_model(input_shape):\n",
        "    \"\"\"Generates CNN model\n",
        "    :param input_shape (tuple): Shape of input set\n",
        "    :return model: CNN model\n",
        "    \"\"\"\n",
        "\n",
        "    # build network topology\n",
        "    model = keras.Sequential()\n",
        "\n",
        "    # 1st conv layer\n",
        "    model.add(keras.layers.Conv2D(32, (3, 3), activation='relu', input_shape = input_shape))\n",
        "    model.add(keras.layers.MaxPooling2D((3, 3), strides=(2, 2), padding='same'))\n",
        "    model.add(keras.layers.BatchNormalization())\n",
        "\n",
        "    # 2nd conv layer\n",
        "    model.add(keras.layers.Conv2D(32, (3, 3), activation='relu'))\n",
        "    model.add(keras.layers.MaxPooling2D((3, 3), strides=(2, 2), padding='same'))\n",
        "    model.add(keras.layers.BatchNormalization())\n",
        "\n",
        "    # 3rd conv layer\n",
        "    model.add(keras.layers.Conv2D(32, (2, 2), activation='relu'))\n",
        "    model.add(keras.layers.MaxPooling2D((2, 2), strides=(2, 2), padding='same'))\n",
        "    model.add(keras.layers.BatchNormalization())\n",
        "\n",
        "    # flatten output and feed it into dense layer\n",
        "    model.add(keras.layers.Flatten())\n",
        "    model.add(keras.layers.Dense(64, activation='relu'))\n",
        "    model.add(keras.layers.Dropout(0.3))\n",
        "\n",
        "    # output layer\n",
        "    model.add(keras.layers.Dense(10, activation='softmax'))\n",
        "\n",
        "    return model\n",
        "\n",
        "\n",
        "def predict(model, X, y):\n",
        "    \"\"\"Predict a single sample using the trained model\n",
        "    :param model: Trained classifier\n",
        "    :param X: Input data\n",
        "    :param y (int): Target\n",
        "    \"\"\"\n",
        "\n",
        "    # add a dimension to input data for sample - model.predict() expects a 4d array in this case\n",
        "    X = X[np.newaxis, ...] # array shape (1, 130, 13, 1)\n",
        "\n",
        "    # perform prediction\n",
        "    prediction = model.predict(X)\n",
        "\n",
        "    # get index with max value\n",
        "    predicted_index = np.argmax(prediction, axis=1)\n",
        "\n",
        "    print(\"Target: {}, Predicted label: {}\".format(y, predicted_index))"
      ]
    },
    {
      "cell_type": "code",
      "execution_count": null,
      "metadata": {
        "colab": {
          "base_uri": "https://localhost:8080/",
          "height": 1000
        },
        "id": "l8ZEZ1q-vrR0",
        "outputId": "85407576-7d8c-4a0e-e186-7c949d258639"
      },
      "outputs": [
        {
          "name": "stdout",
          "output_type": "stream",
          "text": [
            "Epoch 1/50\n",
            "188/188 [==============================] - 11s 60ms/step - loss: 0.2787 - accuracy: 0.9065 - val_loss: 0.8543 - val_accuracy: 0.7356\n",
            "Epoch 2/50\n",
            "188/188 [==============================] - 11s 60ms/step - loss: 0.2904 - accuracy: 0.9027 - val_loss: 0.8117 - val_accuracy: 0.7377\n",
            "Epoch 3/50\n",
            "188/188 [==============================] - 11s 60ms/step - loss: 0.2669 - accuracy: 0.9127 - val_loss: 0.7982 - val_accuracy: 0.7530\n",
            "Epoch 4/50\n",
            "188/188 [==============================] - 11s 60ms/step - loss: 0.2814 - accuracy: 0.9062 - val_loss: 0.8153 - val_accuracy: 0.7363\n",
            "Epoch 5/50\n",
            "188/188 [==============================] - 12s 63ms/step - loss: 0.2737 - accuracy: 0.9045 - val_loss: 0.7838 - val_accuracy: 0.7543\n",
            "Epoch 6/50\n",
            "188/188 [==============================] - 15s 81ms/step - loss: 0.2612 - accuracy: 0.9124 - val_loss: 0.8171 - val_accuracy: 0.7377\n",
            "Epoch 7/50\n",
            "188/188 [==============================] - 11s 61ms/step - loss: 0.2658 - accuracy: 0.9124 - val_loss: 0.7994 - val_accuracy: 0.7530\n",
            "Epoch 8/50\n",
            "188/188 [==============================] - 11s 60ms/step - loss: 0.2595 - accuracy: 0.9139 - val_loss: 0.7827 - val_accuracy: 0.7563\n",
            "Epoch 9/50\n",
            "188/188 [==============================] - 11s 60ms/step - loss: 0.2498 - accuracy: 0.9150 - val_loss: 0.7848 - val_accuracy: 0.7603\n",
            "Epoch 10/50\n",
            "188/188 [==============================] - 11s 60ms/step - loss: 0.2483 - accuracy: 0.9172 - val_loss: 0.8226 - val_accuracy: 0.7430\n",
            "Epoch 11/50\n",
            "188/188 [==============================] - 11s 60ms/step - loss: 0.2634 - accuracy: 0.9084 - val_loss: 0.7945 - val_accuracy: 0.7597\n",
            "Epoch 12/50\n",
            "188/188 [==============================] - 11s 60ms/step - loss: 0.2552 - accuracy: 0.9144 - val_loss: 0.8197 - val_accuracy: 0.7483\n",
            "Epoch 13/50\n",
            "188/188 [==============================] - 12s 61ms/step - loss: 0.2459 - accuracy: 0.9150 - val_loss: 0.7977 - val_accuracy: 0.7530\n",
            "Epoch 14/50\n",
            "188/188 [==============================] - 12s 63ms/step - loss: 0.2464 - accuracy: 0.9157 - val_loss: 0.7893 - val_accuracy: 0.7497\n",
            "Epoch 15/50\n",
            "188/188 [==============================] - 11s 61ms/step - loss: 0.2323 - accuracy: 0.9236 - val_loss: 0.7999 - val_accuracy: 0.7570\n",
            "Epoch 16/50\n",
            "188/188 [==============================] - 11s 60ms/step - loss: 0.2459 - accuracy: 0.9154 - val_loss: 0.8261 - val_accuracy: 0.7410\n",
            "Epoch 17/50\n",
            "188/188 [==============================] - 11s 60ms/step - loss: 0.2255 - accuracy: 0.9279 - val_loss: 0.8143 - val_accuracy: 0.7490\n",
            "Epoch 18/50\n",
            "188/188 [==============================] - 11s 60ms/step - loss: 0.2165 - accuracy: 0.9289 - val_loss: 0.8291 - val_accuracy: 0.7423\n",
            "Epoch 19/50\n",
            "188/188 [==============================] - 11s 60ms/step - loss: 0.2221 - accuracy: 0.9251 - val_loss: 0.8304 - val_accuracy: 0.7537\n",
            "Epoch 20/50\n",
            "188/188 [==============================] - 11s 60ms/step - loss: 0.2250 - accuracy: 0.9256 - val_loss: 0.8143 - val_accuracy: 0.7503\n",
            "Epoch 21/50\n",
            "188/188 [==============================] - 11s 60ms/step - loss: 0.2128 - accuracy: 0.9279 - val_loss: 0.8107 - val_accuracy: 0.7563\n",
            "Epoch 22/50\n",
            "188/188 [==============================] - 11s 60ms/step - loss: 0.2059 - accuracy: 0.9307 - val_loss: 0.8719 - val_accuracy: 0.7363\n",
            "Epoch 23/50\n",
            "188/188 [==============================] - 11s 60ms/step - loss: 0.2149 - accuracy: 0.9232 - val_loss: 0.8751 - val_accuracy: 0.7336\n",
            "Epoch 24/50\n",
            "188/188 [==============================] - 11s 60ms/step - loss: 0.2136 - accuracy: 0.9282 - val_loss: 0.8400 - val_accuracy: 0.7543\n",
            "Epoch 25/50\n",
            "188/188 [==============================] - 11s 60ms/step - loss: 0.1968 - accuracy: 0.9346 - val_loss: 0.8897 - val_accuracy: 0.7316\n",
            "Epoch 26/50\n",
            "188/188 [==============================] - 11s 60ms/step - loss: 0.2036 - accuracy: 0.9294 - val_loss: 0.8458 - val_accuracy: 0.7530\n",
            "Epoch 27/50\n",
            "188/188 [==============================] - 11s 60ms/step - loss: 0.2068 - accuracy: 0.9331 - val_loss: 0.8762 - val_accuracy: 0.7463\n",
            "Epoch 28/50\n",
            "188/188 [==============================] - 11s 60ms/step - loss: 0.2003 - accuracy: 0.9337 - val_loss: 0.9015 - val_accuracy: 0.7336\n",
            "Epoch 29/50\n",
            "188/188 [==============================] - 11s 60ms/step - loss: 0.2046 - accuracy: 0.9337 - val_loss: 0.8589 - val_accuracy: 0.7523\n",
            "Epoch 30/50\n",
            "188/188 [==============================] - 11s 60ms/step - loss: 0.1994 - accuracy: 0.9346 - val_loss: 0.9133 - val_accuracy: 0.7430\n",
            "Epoch 31/50\n",
            "188/188 [==============================] - 11s 60ms/step - loss: 0.1957 - accuracy: 0.9344 - val_loss: 0.8666 - val_accuracy: 0.7390\n",
            "Epoch 32/50\n",
            "188/188 [==============================] - 11s 60ms/step - loss: 0.1904 - accuracy: 0.9364 - val_loss: 0.8578 - val_accuracy: 0.7537\n",
            "Epoch 33/50\n",
            "188/188 [==============================] - 11s 60ms/step - loss: 0.1889 - accuracy: 0.9359 - val_loss: 0.8815 - val_accuracy: 0.7417\n",
            "Epoch 34/50\n",
            "188/188 [==============================] - 12s 61ms/step - loss: 0.1941 - accuracy: 0.9374 - val_loss: 0.8778 - val_accuracy: 0.7430\n",
            "Epoch 35/50\n",
            "188/188 [==============================] - 11s 60ms/step - loss: 0.1758 - accuracy: 0.9421 - val_loss: 0.8646 - val_accuracy: 0.7563\n",
            "Epoch 36/50\n",
            "188/188 [==============================] - 12s 61ms/step - loss: 0.1820 - accuracy: 0.9392 - val_loss: 0.8804 - val_accuracy: 0.7430\n",
            "Epoch 37/50\n",
            "188/188 [==============================] - 11s 61ms/step - loss: 0.1881 - accuracy: 0.9369 - val_loss: 0.8627 - val_accuracy: 0.7597\n",
            "Epoch 38/50\n",
            "188/188 [==============================] - 11s 61ms/step - loss: 0.1707 - accuracy: 0.9437 - val_loss: 0.8527 - val_accuracy: 0.7550\n",
            "Epoch 39/50\n",
            "188/188 [==============================] - 11s 60ms/step - loss: 0.1702 - accuracy: 0.9441 - val_loss: 0.8730 - val_accuracy: 0.7423\n",
            "Epoch 40/50\n",
            "188/188 [==============================] - 11s 60ms/step - loss: 0.1845 - accuracy: 0.9359 - val_loss: 0.9001 - val_accuracy: 0.7390\n",
            "Epoch 41/50\n",
            "188/188 [==============================] - 11s 61ms/step - loss: 0.1765 - accuracy: 0.9384 - val_loss: 0.8804 - val_accuracy: 0.7490\n",
            "Epoch 42/50\n",
            "188/188 [==============================] - 11s 60ms/step - loss: 0.1607 - accuracy: 0.9448 - val_loss: 0.9415 - val_accuracy: 0.7356\n",
            "Epoch 43/50\n",
            "188/188 [==============================] - 11s 61ms/step - loss: 0.1717 - accuracy: 0.9432 - val_loss: 0.8795 - val_accuracy: 0.7523\n",
            "Epoch 44/50\n",
            "188/188 [==============================] - 11s 60ms/step - loss: 0.1800 - accuracy: 0.9396 - val_loss: 0.8934 - val_accuracy: 0.7483\n",
            "Epoch 45/50\n",
            "188/188 [==============================] - 11s 61ms/step - loss: 0.1632 - accuracy: 0.9461 - val_loss: 0.8697 - val_accuracy: 0.7577\n",
            "Epoch 46/50\n",
            "188/188 [==============================] - 11s 61ms/step - loss: 0.1561 - accuracy: 0.9476 - val_loss: 0.8978 - val_accuracy: 0.7470\n",
            "Epoch 47/50\n",
            "188/188 [==============================] - 11s 61ms/step - loss: 0.1598 - accuracy: 0.9474 - val_loss: 0.8977 - val_accuracy: 0.7497\n",
            "Epoch 48/50\n",
            "188/188 [==============================] - 11s 61ms/step - loss: 0.1669 - accuracy: 0.9427 - val_loss: 0.9106 - val_accuracy: 0.7417\n",
            "Epoch 49/50\n",
            "188/188 [==============================] - 11s 60ms/step - loss: 0.1462 - accuracy: 0.9489 - val_loss: 0.9146 - val_accuracy: 0.7403\n",
            "Epoch 50/50\n",
            "188/188 [==============================] - 11s 61ms/step - loss: 0.1483 - accuracy: 0.9498 - val_loss: 0.9247 - val_accuracy: 0.7417\n"
          ]
        },
        {
          "data": {
            "image/png": "[encoded data removed]",
            "text/plain": [
              "<Figure size 432x288 with 2 Axes>"
            ]
          },
          "metadata": {
            "needs_background": "light",
            "tags": []
          },
          "output_type": "display_data"
        },
        {
          "name": "stdout",
          "output_type": "stream",
          "text": [
            "79/79 - 1s - loss: 1.0004 - accuracy: 0.7301\n",
            "\n",
            "Test accuracy: 0.7300760746002197\n"
          ]
        }
      ],
      "source": [
        "X_train, X_validation, X_test, y_train, y_validation, y_test = prepare_datasets(0.25, 0.2)\n",
        "\n",
        "# create network\n",
        "input_shape = (X_train.shape[1], X_train.shape[2], 1)\n",
        "model = build_model(input_shape)\n",
        "\n",
        "# compile model\n",
        "optimiser = keras.optimizers.Adam(learning_rate=0.0001)\n",
        "model.compile(optimizer=optimiser, loss = 'sparse_categorical_crossentropy', metrics = ['accuracy'])\n",
        "\n",
        "# model.summary()\n",
        "\n",
        "# train model\n",
        "history = model.fit(X_train, y_train, validation_data = (X_validation, y_validation), batch_size = 32, epochs=50)\n",
        "\n",
        "# plot accuracy/error for training and validation\n",
        "plot_history(history)\n",
        "\n",
        "# evaluate model on test set\n",
        "test_loss, test_acc = model.evaluate(X_test, y_test, verbose = 2)\n",
        "print('\\nTest accuracy:', test_acc)"
      ]
    },
    {
      "cell_type": "markdown",
      "metadata": {
        "id": "BvKNPSNKgC8H"
      },
      "source": [
        "### RNN - LSTM"
      ]
    },
    {
      "cell_type": "code",
      "execution_count": null,
      "metadata": {
        "id": "7HsCWqjzgCbP"
      },
      "outputs": [],
      "source": [
        "def prepare_datasets(test_size, validation_size):\n",
        "    # load data\n",
        "    # X, y = load_data(DATA_PATH)\n",
        "\n",
        "    # create train, validation and test split\n",
        "    X_train, X_test, y_train, y_test = train_test_split(X, y, test_size = test_size)\n",
        "    X_train, X_validation, y_train, y_validation = train_test_split(X_train, y_train, test_size = validation_size)\n",
        "\n",
        "    return X_train, X_validation, X_test, y_train, y_validation, y_test\n",
        "\n",
        "\n",
        "def build_model(input_shape):\n",
        "    # build network topology\n",
        "    model = keras.Sequential()\n",
        "\n",
        "    # 2 LSTM layers\n",
        "    model.add(keras.layers.LSTM(64, input_shape = input_shape, return_sequences = True))\n",
        "    model.add(keras.layers.LSTM(64))\n",
        "\n",
        "    # dense layer\n",
        "    model.add(keras.layers.Dense(64, activation = 'relu'))\n",
        "    model.add(keras.layers.Dropout(0.3))\n",
        "\n",
        "    # output layer\n",
        "    model.add(keras.layers.Dense(10, activation = 'softmax'))\n",
        "\n",
        "    return model"
      ]
    },
    {
      "cell_type": "code",
      "execution_count": null,
      "metadata": {
        "id": "A2VHwSsWRTmX"
      },
      "outputs": [],
      "source": [
        "# get train, validation, test splits\n",
        "X_train, X_validation, X_test, y_train, y_validation, y_test = prepare_datasets(0.25, 0.2)\n",
        "\n",
        "# create network\n",
        "input_shape = (X_train.shape[1], X_train.shape[2]) # 130, 13\n",
        "model = build_model(input_shape)\n",
        "\n",
        "# compile model\n",
        "optimiser = keras.optimizers.Adam(learning_rate=0.0001)\n",
        "model.compile(optimizer = optimiser, loss = 'sparse_categorical_crossentropy', metrics = ['accuracy'])\n",
        "\n",
        "# model.summary()\n",
        "\n",
        "# train model\n",
        "history = model.fit(X_train, y_train, validation_data = (X_validation, y_validation), batch_size = 32, epochs = 100)\n",
        "\n",
        "# plot accuracy/error for training and validation\n",
        "plot_history(history)\n",
        "\n",
        "# evaluate model on test set\n",
        "test_loss, test_acc = model.evaluate(X_test, y_test, verbose=2)\n",
        "print('\\nTest accuracy:', test_acc)"
      ]
    },
    {
      "cell_type": "markdown",
      "metadata": {
        "id": "GziwYQ4qtzfn"
      },
      "source": [
        "## Saving Models"
      ]
    },
    {
      "cell_type": "code",
      "execution_count": null,
      "metadata": {
        "id": "Chezzd0HkAbK"
      },
      "outputs": [],
      "source": [
        "# model.save('/content/drive/MyDrive/Deep Learning/best_model.h5')\n",
        "# pk.dump(label, open('/content/drive/MyDrive/Deep Learning/le.pk', 'wb'))"
      ]
    },
    {
      "cell_type": "markdown",
      "metadata": {
        "id": "bqtuQUlWvK3h"
      },
      "source": [
        "## Testing With User Data"
      ]
    },
    {
      "cell_type": "code",
      "execution_count": null,
      "metadata": {
        "id": "ajLAPGW4poZW"
      },
      "outputs": [],
      "source": [
        "def getUserInput(path, genre):\n",
        "  samples_per_segment = int(SAMPLES_PER_TRACK / num_segments)\n",
        "  num_mfcc_vectors_per_segment = math.ceil(samples_per_segment / hop_length)\n",
        "\n",
        "  user = {\"labels\": [], \"mfcc\": []}\n",
        "\n",
        "  signal, sample_rate = librosa.load(path, sr = SAMPLE_RATE)\n",
        "\n",
        "  # process all segments of audio file\n",
        "  for d in range(num_segments):\n",
        "\n",
        "      # calculate start and finish sample for current segment\n",
        "      start = samples_per_segment * d\n",
        "      finish = start + samples_per_segment\n",
        "\n",
        "      # # extract mfcc\n",
        "      if len(signal[start : finish]) == samples_per_segment:\n",
        "        mfcc = librosa.feature.mfcc(signal[start:finish], sample_rate, n_mfcc = num_mfcc, \n",
        "                                    n_fft = n_fft, hop_length = hop_length)\n",
        "        mfcc = mfcc.T\n",
        "\n",
        "        # # store only mfcc feature with expected number of vectors\n",
        "        if len(mfcc) == num_mfcc_vectors_per_segment:\n",
        "            user[\"mfcc\"].append(mfcc.tolist())\n",
        "            user[\"labels\"].append(genre)\n",
        "\n",
        "  x_user = np.array(user['mfcc'])\n",
        "  y_user = np.array(user['labels'])\n",
        "  return x_user, y_user"
      ]
    },
    {
      "cell_type": "code",
      "execution_count": null,
      "metadata": {
        "colab": {
          "base_uri": "https://localhost:8080/"
        },
        "id": "UwLpYc_00zL1",
        "outputId": "9727ce05-60f4-4a4f-965c-36a8f550c5a9"
      },
      "outputs": [
        {
          "data": {
            "text/plain": [
              "array(['blues', 'classical', 'country', 'disco', 'hiphop', 'jazz',\n",
              "       'metal', 'pop', 'reggae', 'rock'], dtype='<U9')"
            ]
          },
          "execution_count": 23,
          "metadata": {
            "tags": []
          },
          "output_type": "execute_result"
        }
      ],
      "source": [
        "label.classes_"
      ]
    },
    {
      "cell_type": "code",
      "execution_count": null,
      "metadata": {
        "colab": {
          "base_uri": "https://localhost:8080/",
          "height": 261
        },
        "id": "2_5Kvn_CxCZv",
        "outputId": "f77c3d1a-8ac9-47ca-a22f-7133c35a5573"
      },
      "outputs": [
        {
          "name": "stdout",
          "output_type": "stream",
          "text": [
            "File Uploaded: hurt\n",
            "Class to be predicted: country  -  2\n",
            "(10, 130, 13)\n",
            "(10, 130, 13, 1)\n",
            "Class Actually Predicted: country  -  2\n",
            "\n",
            "Song Recommendations For You Are:\n"
          ]
        },
        {
          "data": {
            "text/html": [
              "<div>\n",
              "<style scoped>\n",
              "    .dataframe tbody tr th:only-of-type {\n",
              "        vertical-align: middle;\n",
              "    }\n",
              "\n",
              "    .dataframe tbody tr th {\n",
              "        vertical-align: top;\n",
              "    }\n",
              "\n",
              "    .dataframe thead th {\n",
              "        text-align: right;\n",
              "    }\n",
              "</style>\n",
              "<table border=\"1\" class=\"dataframe\">\n",
              "  <thead>\n",
              "    <tr style=\"text-align: right;\">\n",
              "      <th></th>\n",
              "      <th>Title</th>\n",
              "      <th>Artist</th>\n",
              "      <th>Top Genre</th>\n",
              "      <th>Year</th>\n",
              "      <th>Genre</th>\n",
              "    </tr>\n",
              "  </thead>\n",
              "  <tbody>\n",
              "    <tr>\n",
              "      <th>186</th>\n",
              "      <td>Hurt</td>\n",
              "      <td>Johnny Cash</td>\n",
              "      <td>arkansas country</td>\n",
              "      <td>2002</td>\n",
              "      <td>country</td>\n",
              "    </tr>\n",
              "    <tr>\n",
              "      <th>1891</th>\n",
              "      <td>Tequila</td>\n",
              "      <td>Dan + Shay</td>\n",
              "      <td>contemporary country</td>\n",
              "      <td>2018</td>\n",
              "      <td>country</td>\n",
              "    </tr>\n",
              "    <tr>\n",
              "      <th>633</th>\n",
              "      <td>Jolene</td>\n",
              "      <td>Dolly Parton</td>\n",
              "      <td>classic country pop</td>\n",
              "      <td>1974</td>\n",
              "      <td>country</td>\n",
              "    </tr>\n",
              "  </tbody>\n",
              "</table>\n",
              "</div>"
            ],
            "text/plain": [
              "        Title        Artist             Top Genre  Year    Genre\n",
              "186      Hurt   Johnny Cash      arkansas country  2002  country\n",
              "1891  Tequila    Dan + Shay  contemporary country  2018  country\n",
              "633    Jolene  Dolly Parton   classic country pop  1974  country"
            ]
          },
          "execution_count": 3,
          "metadata": {
            "tags": []
          },
          "output_type": "execute_result"
        }
      ],
      "source": [
        "SAMPLE_RATE = 22050\n",
        "TRACK_DURATION = 30\n",
        "SAMPLES_PER_TRACK = SAMPLE_RATE * TRACK_DURATION\n",
        "num_segments = 10\n",
        "num_mfcc = 13\n",
        "n_fft = 2048\n",
        "hop_length = 512\n",
        "\n",
        "path = '/content/drive/MyDrive/Deep Learning/Hurt Johnny Cash.wav'\n",
        "recs = pd.read_csv('/content/drive/MyDrive/Deep Learning/Final Recs.csv')\n",
        "\n",
        "# Loading the model and the label encoder\n",
        "best_model = load_model('/content/drive/MyDrive/Deep Learning/best_model.h5')\n",
        "le = pk.load(open('/content/drive/MyDrive/Deep Learning/le.pk', 'rb'))\n",
        "\n",
        "# Get User Input\n",
        "x_user, y_user = getUserInput(path, 'country')\n",
        "print('File Uploaded:', 'hurt')\n",
        "print('Class to be predicted: {}'.format('country'),' - ', le.transform(y_user)[0])\n",
        "\n",
        "print(x_user.shape)\n",
        "# If Using Conv2D Model\n",
        "x_user = x_user[..., np.newaxis]\n",
        "print(x_user.shape)\n",
        "\n",
        "pred = np.argmax(best_model.predict(x_user), axis = -1)\n",
        "genre = le.inverse_transform([mode(pred)])[0]\n",
        "\n",
        "print('Class Actually Predicted:', genre, ' - ', mode(pred))\n",
        "\n",
        "recommend = recs[recs['Genre'] == genre]\n",
        "\n",
        "if recommend.shape[0] >= 3: sample = 3\n",
        "else: sample = recommend.shape[0]\n",
        "\n",
        "print('\\nSong Recommendations For You Are:')\n",
        "recommend.sample(sample)"
      ]
    },
    {
      "cell_type": "code",
      "execution_count": null,
      "metadata": {
        "colab": {
          "base_uri": "https://localhost:8080/"
        },
        "id": "jQR7V1-NwIIr",
        "outputId": "ddd8b2fd-4fe6-4adc-c48c-29b79420e909"
      },
      "outputs": [
        {
          "data": {
            "text/plain": [
              "pop          855\n",
              "rock         789\n",
              "metal         93\n",
              "classical     85\n",
              "hiphop        43\n",
              "blues         23\n",
              "reggae        22\n",
              "disco         18\n",
              "country       15\n",
              "jazz           3\n",
              "Name: Genre, dtype: int64"
            ]
          },
          "execution_count": 5,
          "metadata": {
            "tags": []
          },
          "output_type": "execute_result"
        }
      ],
      "source": [
        "recs.Genre.value_counts()"
      ]
    },
    {
      "cell_type": "code",
      "execution_count": null,
      "metadata": {
        "colab": {
          "base_uri": "https://localhost:8080/"
        },
        "id": "srt8vCz5wKzA",
        "outputId": "38ada27e-c352-4345-d89d-eb25f0cf1be8"
      },
      "outputs": [
        {
          "data": {
            "text/plain": [
              "array(['blues', 'classical', 'country', 'disco', 'hiphop', 'jazz',\n",
              "       'metal', 'pop', 'reggae', 'rock'], dtype='<U9')"
            ]
          },
          "execution_count": 6,
          "metadata": {
            "tags": []
          },
          "output_type": "execute_result"
        }
      ],
      "source": [
        "le.classes_"
      ]
    },
    {
      "cell_type": "code",
      "execution_count": null,
      "metadata": {
        "colab": {
          "base_uri": "https://localhost:8080/"
        },
        "id": "I85feAhOwQj6",
        "outputId": "59fb4d3d-a239-4f77-ad47-97b0d9ec9cd4"
      },
      "outputs": [
        {
          "data": {
            "text/plain": [
              "pandas.core.frame.DataFrame"
            ]
          },
          "execution_count": 7,
          "metadata": {
            "tags": []
          },
          "output_type": "execute_result"
        }
      ],
      "source": [
        "type(recommend)"
      ]
    },
    {
      "cell_type": "code",
      "execution_count": null,
      "metadata": {
        "id": "-7t66pZNwXKP"
      },
      "outputs": [],
      "source": []
    }
  ],
  "metadata": {
    "accelerator": "GPU",
    "colab": {
      "collapsed_sections": [
        "zIqVADstDRMV",
        "1iEuhkg6dER4",
        "BvKNPSNKgC8H"
      ],
      "provenance": []
    },
    "kernelspec": {
      "display_name": "Python 3",
      "name": "python3"
    },
    "language_info": {
      "name": "python"
    }
  },
  "nbformat": 4,
  "nbformat_minor": 0
}
